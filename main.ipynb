{
  "cells": [
    {
      "cell_type": "markdown",
      "id": "GmR4pxswF2ha",
      "metadata": {
        "id": "GmR4pxswF2ha"
      },
      "source": [
        "# 1.import libraries"
      ]
    },
    {
      "cell_type": "code",
      "execution_count": 1,
      "id": "hNSesGCbcd9Q",
      "metadata": {
        "colab": {
          "base_uri": "https://localhost:8080/"
        },
        "id": "hNSesGCbcd9Q",
        "outputId": "a77c8727-52f7-4c56-ad4e-ba69cda6da9b"
      },
      "outputs": [
        {
          "name": "stdout",
          "output_type": "stream",
          "text": [
            "Looking in indexes: https://pypi.org/simple, https://us-python.pkg.dev/colab-wheels/public/simple/\n",
            "Collecting colorama\n",
            "  Downloading colorama-0.4.5-py2.py3-none-any.whl (16 kB)\n",
            "Installing collected packages: colorama\n",
            "Successfully installed colorama-0.4.5\n"
          ]
        }
      ],
      "source": [
        "! pip install colorama"
      ]
    },
    {
      "cell_type": "code",
      "execution_count": 35,
      "id": "f03b986d",
      "metadata": {
        "colab": {
          "base_uri": "https://localhost:8080/"
        },
        "id": "f03b986d",
        "outputId": "e3c82836-1f90-43b7-90e0-b4144146fb95"
      },
      "outputs": [
        {
          "name": "stdout",
          "output_type": "stream",
          "text": [
            "cpu\n"
          ]
        }
      ],
      "source": [
        "import pandas as pd \n",
        "import random\n",
        "import time\n",
        "import matplotlib.pyplot as plt\n",
        "import torch\n",
        "import torch.nn as nn\n",
        "from torch import optim\n",
        "from sklearn.model_selection import train_test_split\n",
        "from torch.utils.data import Dataset\n",
        "from torch.utils.data import DataLoader\n",
        "from colorama import Fore\n",
        "device = torch.device(\"cuda:0\" if torch.cuda.is_available() else \"cpu\")\n",
        "print(device)\n",
        "import math"
      ]
    },
    {
      "cell_type": "markdown",
      "id": "WYaYeWQsF_BT",
      "metadata": {
        "id": "WYaYeWQsF_BT"
      },
      "source": [
        "# 2. import data"
      ]
    },
    {
      "cell_type": "code",
      "execution_count": 3,
      "id": "TT4aDaYkIVEY",
      "metadata": {
        "colab": {
          "base_uri": "https://localhost:8080/"
        },
        "id": "TT4aDaYkIVEY",
        "outputId": "356ccc4d-a549-4a01-e7e1-934633edce02"
      },
      "outputs": [
        {
          "name": "stdout",
          "output_type": "stream",
          "text": [
            "Mounted at /content/gdrive/\n",
            "/content/gdrive/MyDrive/my_code/41river\n"
          ]
        }
      ],
      "source": [
        "from google.colab import drive\n",
        "drive.mount('/content/gdrive/')\n",
        "#!!!!!!!!!!!!!!!!!!!!!!!!!!!!!!!!!!!!!!!!!!!!!!!!!!!!!!!!!!!!!!!!!!!!\n",
        "# attention !!\n",
        "#  if you are using google colab to run the code : change the following line to your own google drive (where you upload the data)\n",
        "#  if you are running the code on your own computer : comment line 8 by adding # at its beginning\n",
        "#!!!!!!!!!!!!!!!!!!!!!!!!!!!!!!!!!!!!!!!!!!!!!!!!!!!!!!!!!!!!!!!!!!!!\n",
        "%cd '/content/gdrive/MyDrive/my_code/41river'\n",
        "df = pd.read_excel('Ghalefor.xlsx')"
      ]
    },
    {
      "cell_type": "code",
      "execution_count": 4,
      "id": "83e3cf25",
      "metadata": {
        "colab": {
          "base_uri": "https://localhost:8080/",
          "height": 423
        },
        "id": "83e3cf25",
        "outputId": "ee5aff36-b41b-4267-f395-28af2cc296bc"
      },
      "outputs": [
        {
          "data": {
            "text/html": [
              "\n",
              "  <div id=\"df-215086c2-dd6b-40e2-bf3d-549e3d0d231d\">\n",
              "    <div class=\"colab-df-container\">\n",
              "      <div>\n",
              "<style scoped>\n",
              "    .dataframe tbody tr th:only-of-type {\n",
              "        vertical-align: middle;\n",
              "    }\n",
              "\n",
              "    .dataframe tbody tr th {\n",
              "        vertical-align: top;\n",
              "    }\n",
              "\n",
              "    .dataframe thead th {\n",
              "        text-align: right;\n",
              "    }\n",
              "</style>\n",
              "<table border=\"1\" class=\"dataframe\">\n",
              "  <thead>\n",
              "    <tr style=\"text-align: right;\">\n",
              "      <th></th>\n",
              "      <th>Rain</th>\n",
              "      <th>Flow</th>\n",
              "      <th>yesterday_rain</th>\n",
              "      <th>two_days_ago</th>\n",
              "    </tr>\n",
              "  </thead>\n",
              "  <tbody>\n",
              "    <tr>\n",
              "      <th>0</th>\n",
              "      <td>0.0</td>\n",
              "      <td>1.670</td>\n",
              "      <td>0.0</td>\n",
              "      <td>0.0</td>\n",
              "    </tr>\n",
              "    <tr>\n",
              "      <th>1</th>\n",
              "      <td>0.0</td>\n",
              "      <td>1.670</td>\n",
              "      <td>0.0</td>\n",
              "      <td>0.0</td>\n",
              "    </tr>\n",
              "    <tr>\n",
              "      <th>2</th>\n",
              "      <td>0.0</td>\n",
              "      <td>1.670</td>\n",
              "      <td>0.0</td>\n",
              "      <td>0.0</td>\n",
              "    </tr>\n",
              "    <tr>\n",
              "      <th>3</th>\n",
              "      <td>0.0</td>\n",
              "      <td>1.670</td>\n",
              "      <td>0.0</td>\n",
              "      <td>0.0</td>\n",
              "    </tr>\n",
              "    <tr>\n",
              "      <th>4</th>\n",
              "      <td>0.0</td>\n",
              "      <td>1.670</td>\n",
              "      <td>0.0</td>\n",
              "      <td>0.0</td>\n",
              "    </tr>\n",
              "    <tr>\n",
              "      <th>...</th>\n",
              "      <td>...</td>\n",
              "      <td>...</td>\n",
              "      <td>...</td>\n",
              "      <td>...</td>\n",
              "    </tr>\n",
              "    <tr>\n",
              "      <th>13144</th>\n",
              "      <td>0.0</td>\n",
              "      <td>0.725</td>\n",
              "      <td>0.0</td>\n",
              "      <td>0.0</td>\n",
              "    </tr>\n",
              "    <tr>\n",
              "      <th>13145</th>\n",
              "      <td>1.0</td>\n",
              "      <td>0.801</td>\n",
              "      <td>0.0</td>\n",
              "      <td>0.0</td>\n",
              "    </tr>\n",
              "    <tr>\n",
              "      <th>13146</th>\n",
              "      <td>0.0</td>\n",
              "      <td>0.801</td>\n",
              "      <td>1.0</td>\n",
              "      <td>0.0</td>\n",
              "    </tr>\n",
              "    <tr>\n",
              "      <th>13147</th>\n",
              "      <td>0.0</td>\n",
              "      <td>0.885</td>\n",
              "      <td>0.0</td>\n",
              "      <td>1.0</td>\n",
              "    </tr>\n",
              "    <tr>\n",
              "      <th>13148</th>\n",
              "      <td>0.0</td>\n",
              "      <td>0.801</td>\n",
              "      <td>0.0</td>\n",
              "      <td>0.0</td>\n",
              "    </tr>\n",
              "  </tbody>\n",
              "</table>\n",
              "<p>13149 rows × 4 columns</p>\n",
              "</div>\n",
              "      <button class=\"colab-df-convert\" onclick=\"convertToInteractive('df-215086c2-dd6b-40e2-bf3d-549e3d0d231d')\"\n",
              "              title=\"Convert this dataframe to an interactive table.\"\n",
              "              style=\"display:none;\">\n",
              "        \n",
              "  <svg xmlns=\"http://www.w3.org/2000/svg\" height=\"24px\"viewBox=\"0 0 24 24\"\n",
              "       width=\"24px\">\n",
              "    <path d=\"M0 0h24v24H0V0z\" fill=\"none\"/>\n",
              "    <path d=\"M18.56 5.44l.94 2.06.94-2.06 2.06-.94-2.06-.94-.94-2.06-.94 2.06-2.06.94zm-11 1L8.5 8.5l.94-2.06 2.06-.94-2.06-.94L8.5 2.5l-.94 2.06-2.06.94zm10 10l.94 2.06.94-2.06 2.06-.94-2.06-.94-.94-2.06-.94 2.06-2.06.94z\"/><path d=\"M17.41 7.96l-1.37-1.37c-.4-.4-.92-.59-1.43-.59-.52 0-1.04.2-1.43.59L10.3 9.45l-7.72 7.72c-.78.78-.78 2.05 0 2.83L4 21.41c.39.39.9.59 1.41.59.51 0 1.02-.2 1.41-.59l7.78-7.78 2.81-2.81c.8-.78.8-2.07 0-2.86zM5.41 20L4 18.59l7.72-7.72 1.47 1.35L5.41 20z\"/>\n",
              "  </svg>\n",
              "      </button>\n",
              "      \n",
              "  <style>\n",
              "    .colab-df-container {\n",
              "      display:flex;\n",
              "      flex-wrap:wrap;\n",
              "      gap: 12px;\n",
              "    }\n",
              "\n",
              "    .colab-df-convert {\n",
              "      background-color: #E8F0FE;\n",
              "      border: none;\n",
              "      border-radius: 50%;\n",
              "      cursor: pointer;\n",
              "      display: none;\n",
              "      fill: #1967D2;\n",
              "      height: 32px;\n",
              "      padding: 0 0 0 0;\n",
              "      width: 32px;\n",
              "    }\n",
              "\n",
              "    .colab-df-convert:hover {\n",
              "      background-color: #E2EBFA;\n",
              "      box-shadow: 0px 1px 2px rgba(60, 64, 67, 0.3), 0px 1px 3px 1px rgba(60, 64, 67, 0.15);\n",
              "      fill: #174EA6;\n",
              "    }\n",
              "\n",
              "    [theme=dark] .colab-df-convert {\n",
              "      background-color: #3B4455;\n",
              "      fill: #D2E3FC;\n",
              "    }\n",
              "\n",
              "    [theme=dark] .colab-df-convert:hover {\n",
              "      background-color: #434B5C;\n",
              "      box-shadow: 0px 1px 3px 1px rgba(0, 0, 0, 0.15);\n",
              "      filter: drop-shadow(0px 1px 2px rgba(0, 0, 0, 0.3));\n",
              "      fill: #FFFFFF;\n",
              "    }\n",
              "  </style>\n",
              "\n",
              "      <script>\n",
              "        const buttonEl =\n",
              "          document.querySelector('#df-215086c2-dd6b-40e2-bf3d-549e3d0d231d button.colab-df-convert');\n",
              "        buttonEl.style.display =\n",
              "          google.colab.kernel.accessAllowed ? 'block' : 'none';\n",
              "\n",
              "        async function convertToInteractive(key) {\n",
              "          const element = document.querySelector('#df-215086c2-dd6b-40e2-bf3d-549e3d0d231d');\n",
              "          const dataTable =\n",
              "            await google.colab.kernel.invokeFunction('convertToInteractive',\n",
              "                                                     [key], {});\n",
              "          if (!dataTable) return;\n",
              "\n",
              "          const docLinkHtml = 'Like what you see? Visit the ' +\n",
              "            '<a target=\"_blank\" href=https://colab.research.google.com/notebooks/data_table.ipynb>data table notebook</a>'\n",
              "            + ' to learn more about interactive tables.';\n",
              "          element.innerHTML = '';\n",
              "          dataTable['output_type'] = 'display_data';\n",
              "          await google.colab.output.renderOutput(dataTable, element);\n",
              "          const docLink = document.createElement('div');\n",
              "          docLink.innerHTML = docLinkHtml;\n",
              "          element.appendChild(docLink);\n",
              "        }\n",
              "      </script>\n",
              "    </div>\n",
              "  </div>\n",
              "  "
            ],
            "text/plain": [
              "       Rain   Flow  yesterday_rain  two_days_ago\n",
              "0       0.0  1.670             0.0           0.0\n",
              "1       0.0  1.670             0.0           0.0\n",
              "2       0.0  1.670             0.0           0.0\n",
              "3       0.0  1.670             0.0           0.0\n",
              "4       0.0  1.670             0.0           0.0\n",
              "...     ...    ...             ...           ...\n",
              "13144   0.0  0.725             0.0           0.0\n",
              "13145   1.0  0.801             0.0           0.0\n",
              "13146   0.0  0.801             1.0           0.0\n",
              "13147   0.0  0.885             0.0           1.0\n",
              "13148   0.0  0.801             0.0           0.0\n",
              "\n",
              "[13149 rows x 4 columns]"
            ]
          },
          "execution_count": 4,
          "metadata": {},
          "output_type": "execute_result"
        }
      ],
      "source": [
        "# To increase accuracy, we added the rainfall of the day before and two days \n",
        "#prior to the data as well to examine its potential impact on the flow rate \n",
        "df['yesterday_rain'] = df['Rain'].shift(1)\n",
        "df['yesterday_rain'][0] =0\n",
        "df['two_days_ago']= df['Rain'].shift(2)\n",
        "df['two_days_ago'][0] = 0\n",
        "df['two_days_ago'][1] = 0\n",
        "df"
      ]
    },
    {
      "cell_type": "markdown",
      "id": "9BbH7NC5GvjB",
      "metadata": {
        "id": "9BbH7NC5GvjB"
      },
      "source": [
        "# 3. visulazing data"
      ]
    },
    {
      "cell_type": "code",
      "execution_count": 5,
      "id": "5c8a8541",
      "metadata": {
        "colab": {
          "base_uri": "https://localhost:8080/",
          "height": 285
        },
        "id": "5c8a8541",
        "outputId": "c7bba5e1-a35b-4a8a-f9a9-691dd4b03ba8"
      },
      "outputs": [
        {
          "data": {
            "text/plain": [
              "<matplotlib.collections.PathCollection at 0x7fa39fadb810>"
            ]
          },
          "execution_count": 5,
          "metadata": {},
          "output_type": "execute_result"
        },
        {
          "data": {
            "image/png": "[encoded data removed]",
            "text/plain": [
              "<Figure size 432x288 with 1 Axes>"
            ]
          },
          "metadata": {
            "needs_background": "light"
          },
          "output_type": "display_data"
        }
      ],
      "source": [
        "plt.scatter(df['Rain'], df['Flow'])"
      ]
    },
    {
      "cell_type": "code",
      "execution_count": 6,
      "id": "8aea793b",
      "metadata": {
        "colab": {
          "base_uri": "https://localhost:8080/",
          "height": 285
        },
        "id": "8aea793b",
        "outputId": "80d210bb-2955-478c-9c19-c6d57d33f120"
      },
      "outputs": [
        {
          "data": {
            "text/plain": [
              "<matplotlib.collections.PathCollection at 0x7fa39fa87710>"
            ]
          },
          "execution_count": 6,
          "metadata": {},
          "output_type": "execute_result"
        },
        {
          "data": {
            "image/png": "[encoded data removed]",
            "text/plain": [
              "<Figure size 432x288 with 1 Axes>"
            ]
          },
          "metadata": {
            "needs_background": "light"
          },
          "output_type": "display_data"
        }
      ],
      "source": [
        "plt.scatter(df['yesterday_rain'], df['Flow'])"
      ]
    },
    {
      "cell_type": "markdown",
      "id": "-PsAcp-zG4aD",
      "metadata": {
        "id": "-PsAcp-zG4aD"
      },
      "source": [
        "There isn't necessarily a direct relationship between rainfall and flow rate. Even on days with zero rainfall, the flow rate can vary significantly."
      ]
    },
    {
      "cell_type": "markdown",
      "id": "a5aRypJGG6wm",
      "metadata": {
        "id": "a5aRypJGG6wm"
      },
      "source": [
        "# 4. preparing data"
      ]
    },
    {
      "cell_type": "code",
      "execution_count": 85,
      "id": "hprHxX51Mczn",
      "metadata": {
        "colab": {
          "base_uri": "https://localhost:8080/"
        },
        "id": "hprHxX51Mczn",
        "outputId": "6dee8d4e-76f6-43b3-fefa-8ebb9e249748"
      },
      "outputs": [
        {
          "name": "stdout",
          "output_type": "stream",
          "text": [
            "train.shape (10519, 4)\n",
            "test.shape (2630, 4)\n"
          ]
        }
      ],
      "source": [
        "train, test = train_test_split( df, test_size=0.2, random_state=42,shuffle=True)\n",
        "print('train.shape',train.shape)\n",
        "print('test.shape',test.shape)\n",
        "total_traing = train.shape[0]\n",
        "total_test = test.shape[0]\n"
      ]
    },
    {
      "cell_type": "code",
      "execution_count": 8,
      "id": "NK4DDrdLYRom",
      "metadata": {
        "id": "NK4DDrdLYRom"
      },
      "outputs": [],
      "source": [
        "class MyDataset(Dataset):\n",
        " \n",
        "  def __init__(self,data): \n",
        "\n",
        "    self.x=torch.Tensor(data.drop(columns = ['Flow']).values)\n",
        "    \n",
        "    self.y=torch.tensor(data['Flow'].values)\n",
        "\n",
        "  def __len__(self):\n",
        "    return len(self.y)\n",
        "   \n",
        "  def __getitem__(self,idx):\n",
        "    return self.x[idx].float(),self.y[idx].float()"
      ]
    },
    {
      "cell_type": "code",
      "execution_count": 9,
      "id": "ysIR1uofaVeN",
      "metadata": {
        "id": "ysIR1uofaVeN"
      },
      "outputs": [],
      "source": [
        "def creating_loaders(BATCH_size,train,test):\n",
        "  train_dataset = MyDataset(train)\n",
        "  train_loader = DataLoader(train_dataset, batch_size=BATCH_size,shuffle=True)\n",
        "  test_dataset = MyDataset(test)\n",
        "  test_loader = DataLoader(test_dataset, batch_size=BATCH_size,shuffle=True)\n",
        "  return (train_loader,test_loader)"
      ]
    },
    {
      "cell_type": "markdown",
      "id": "sCvUPfHXIK5-",
      "metadata": {
        "id": "sCvUPfHXIK5-"
      },
      "source": [
        "# 5. neural network model"
      ]
    },
    {
      "cell_type": "code",
      "execution_count": 10,
      "id": "0fe926e6",
      "metadata": {
        "id": "0fe926e6"
      },
      "outputs": [],
      "source": [
        "# Using this class, we can build a neural network for various values of layers and activation functions \n",
        "class Network(nn.Module):\n",
        "    def __init__(self,layers_neourons,acivation_functions):\n",
        "        \n",
        "        super().__init__()\n",
        "        layers = []\n",
        "        for i in range(len(layers_neourons)-1):\n",
        "          L1 = nn.Linear(layers_neourons[i],layers_neourons[i+1])\n",
        "          \n",
        "          if acivation_functions[i] =='relu':\n",
        "            act= nn.ReLU()\n",
        "            \n",
        "          if acivation_functions[i] ==\"tanh\":\n",
        "             act= nn.Tanh()\n",
        "          if acivation_functions[i] ==\"sigmoid\":\n",
        "            act= nn.Sigmoid()\n",
        "          if acivation_functions == None:\n",
        "             layers.append(L1)\n",
        "          layers.append(L1)\n",
        "          layers.append(act)\n",
        "        self.linears = nn.ModuleList(layers)\n",
        "        \n",
        "       \n",
        "\n",
        "        \n",
        "\n",
        "    def forward(self,x): \n",
        "      for i, l in enumerate(self.linears):\n",
        "        x = l(x)\n",
        "                     \n",
        "      return x\n",
        "        \n"
      ]
    },
    {
      "cell_type": "markdown",
      "id": "QGkGDyqJIzNS",
      "metadata": {
        "id": "QGkGDyqJIzNS"
      },
      "source": [
        "# 6.training the model"
      ]
    },
    {
      "cell_type": "code",
      "execution_count": 11,
      "id": "ad8c90aa",
      "metadata": {
        "id": "ad8c90aa"
      },
      "outputs": [],
      "source": [
        "# The Loss function here is considered to be the L1 loss function. This is because this function has better ability to mitigate the undesirable effects of outliers on the model compared to the mean squared error function\n",
        "# loss_func = nn.MSELoss()\n",
        "loss_func =nn.L1Loss()"
      ]
    },
    {
      "cell_type": "code",
      "execution_count": 12,
      "id": "7k5EOH1LcYgi",
      "metadata": {
        "id": "7k5EOH1LcYgi"
      },
      "outputs": [],
      "source": [
        "def train_one_epoch(model,train_data_loader,optimizer,epoch_index):\n",
        "    training_loss = 0\n",
        "    for i, data in enumerate(train_data_loader ,0):\n",
        "      \n",
        "        optimizer.zero_grad()          \n",
        "        X_train,y_train = data\n",
        "        X_train,y_train= X_train.to(device),y_train.to(device)\n",
        "        y_train = torch.unsqueeze(y_train,1) \n",
        "        outputs = model(X_train)\n",
        "        loss_1 = loss_func(outputs,y_train)  \n",
        "        training_loss   +=  loss_1.item() \n",
        "        \n",
        "        loss_1.backward()       \n",
        "        optimizer.step()\n",
        " \n",
        "    return  training_loss/ (i+1)"
      ]
    },
    {
      "cell_type": "code",
      "execution_count": 13,
      "id": "ejrT3poYcYn5",
      "metadata": {
        "id": "ejrT3poYcYn5"
      },
      "outputs": [],
      "source": [
        "def train_model(model,optimizer,EPOCHS,BATCH_size,start_time,train_data_loader, test_data_loader):\n",
        "  loss_train_list=[]\n",
        "  loss_test_list=[]\n",
        "  for epoch in range(EPOCHS):\n",
        "      \n",
        "      model.train(True)  \n",
        "      traing_avg_loss = 0\n",
        "      traing_avg_loss = train_one_epoch(model,train_data_loader,optimizer,epoch)\n",
        "      loss_train_list.append(traing_avg_loss)\n",
        "      model.train(False)\n",
        "      running_vloss = 0.0    \n",
        "      for i, vdata in enumerate(test_data_loader,0 ):\n",
        "          with torch.no_grad():\n",
        "            X_test,y_test = vdata\n",
        "            X_test,y_test =  X_test.to(device),y_test.to(device)\n",
        "            voutputs=  model( X_test)\n",
        "            y_test = torch.unsqueeze(y_test,1) \n",
        "            vloss = loss_func(voutputs, y_test)\n",
        "            running_vloss += vloss.item()\n",
        "            \n",
        "      test_avg_loss = running_vloss/ (i+1)\n",
        "      loss_test_list.append(test_avg_loss)\n",
        "      now = time.time()-start_time\n",
        "      if (epoch+1)%5 ==0 and epoch!=0:\n",
        "              print(Fore.BLACK,'train set loss: {}, test_set loss: {} in epoch {}/{} ,time is: {}sec'.format('%.5f' % traing_avg_loss,'%.5f' % test_avg_loss,epoch+1,EPOCHS,'%.1f' % now))   \n",
        "  return(loss_train_list,loss_test_list)\n"
      ]
    },
    {
      "cell_type": "code",
      "execution_count": 14,
      "id": "gESWIzBrewuh",
      "metadata": {
        "colab": {
          "base_uri": "https://localhost:8080/"
        },
        "id": "gESWIzBrewuh",
        "outputId": "2255a617-5c78-4452-90d6-f9b40e91fe6b"
      },
      "outputs": [
        {
          "name": "stdout",
          "output_type": "stream",
          "text": [
            "\u001b[31mmodel number is 0,model hidden layrs are [30] and coresponding activation funcitions are['relu']\n",
            "\u001b[30m train set loss: 1.85083, test_set loss: 1.79214 in epoch 5/30 ,time is: 1.2sec\n",
            "\u001b[30m train set loss: 1.74087, test_set loss: 1.73706 in epoch 10/30 ,time is: 2.3sec\n",
            "\u001b[30m train set loss: 1.72225, test_set loss: 1.71770 in epoch 15/30 ,time is: 3.4sec\n",
            "\u001b[30m train set loss: 1.71591, test_set loss: 1.70890 in epoch 20/30 ,time is: 4.4sec\n",
            "\u001b[30m train set loss: 1.71251, test_set loss: 1.70161 in epoch 25/30 ,time is: 5.5sec\n",
            "\u001b[30m train set loss: 1.70993, test_set loss: 1.70610 in epoch 30/30 ,time is: 6.5sec\n",
            "\u001b[32mthis is the best model yet\n",
            "\u001b[32m-----------------------------\n",
            "\u001b[31mmodel number is 1,model hidden layrs are [30] and coresponding activation funcitions are['sigmoid']\n",
            "\u001b[30m train set loss: 1.68697, test_set loss: 1.61926 in epoch 5/30 ,time is: 7.5sec\n",
            "\u001b[30m train set loss: 1.60056, test_set loss: 1.53451 in epoch 10/30 ,time is: 8.6sec\n",
            "\u001b[30m train set loss: 1.52687, test_set loss: 1.47718 in epoch 15/30 ,time is: 9.6sec\n",
            "\u001b[30m train set loss: 1.47020, test_set loss: 1.42050 in epoch 20/30 ,time is: 10.6sec\n",
            "\u001b[30m train set loss: 1.42758, test_set loss: 1.37981 in epoch 25/30 ,time is: 11.7sec\n",
            "\u001b[30m train set loss: 1.39755, test_set loss: 1.35436 in epoch 30/30 ,time is: 12.7sec\n",
            "\u001b[32mthis is the best model yet\n",
            "\u001b[32m-----------------------------\n",
            "\u001b[31mmodel number is 2,model hidden layrs are [30] and coresponding activation funcitions are['tanh']\n",
            "\u001b[30m train set loss: 1.89126, test_set loss: 1.79800 in epoch 5/30 ,time is: 13.8sec\n",
            "\u001b[30m train set loss: 1.57837, test_set loss: 1.64474 in epoch 10/30 ,time is: 14.9sec\n",
            "\u001b[30m train set loss: 1.44234, test_set loss: 1.39039 in epoch 15/30 ,time is: 15.9sec\n",
            "\u001b[30m train set loss: 1.38179, test_set loss: 1.34676 in epoch 20/30 ,time is: 17.0sec\n",
            "\u001b[30m train set loss: 1.34890, test_set loss: 1.29979 in epoch 25/30 ,time is: 18.0sec\n",
            "\u001b[30m train set loss: 1.32802, test_set loss: 1.28156 in epoch 30/30 ,time is: 19.1sec\n",
            "\u001b[32mthis is the best model yet\n",
            "\u001b[32m-----------------------------\n",
            "\u001b[31mmodel number is 3,model hidden layrs are [5] and coresponding activation funcitions are['relu']\n",
            "\u001b[30m train set loss: 2.08134, test_set loss: 2.03162 in epoch 5/30 ,time is: 20.1sec\n",
            "\u001b[30m train set loss: 2.04680, test_set loss: 1.98825 in epoch 10/30 ,time is: 21.2sec\n",
            "\u001b[30m train set loss: 1.76662, test_set loss: 1.70234 in epoch 15/30 ,time is: 22.2sec\n",
            "\u001b[30m train set loss: 1.49677, test_set loss: 1.46555 in epoch 20/30 ,time is: 23.2sec\n",
            "\u001b[30m train set loss: 1.31859, test_set loss: 1.27742 in epoch 25/30 ,time is: 24.3sec\n",
            "\u001b[30m train set loss: 1.21434, test_set loss: 1.31047 in epoch 30/30 ,time is: 25.4sec\n",
            "\u001b[31mmodel number is 4,model hidden layrs are [5] and coresponding activation funcitions are['sigmoid']\n",
            "\u001b[30m train set loss: 1.73343, test_set loss: 1.67582 in epoch 5/30 ,time is: 26.4sec\n",
            "\u001b[30m train set loss: 1.71273, test_set loss: 1.65971 in epoch 10/30 ,time is: 27.4sec\n",
            "\u001b[30m train set loss: 1.68743, test_set loss: 1.63037 in epoch 15/30 ,time is: 28.5sec\n",
            "\u001b[30m train set loss: 1.66557, test_set loss: 1.60732 in epoch 20/30 ,time is: 29.5sec\n",
            "\u001b[30m train set loss: 1.64250, test_set loss: 1.59161 in epoch 25/30 ,time is: 30.6sec\n",
            "\u001b[30m train set loss: 1.62024, test_set loss: 1.56299 in epoch 30/30 ,time is: 31.6sec\n",
            "\u001b[31mmodel number is 5,model hidden layrs are [5] and coresponding activation funcitions are['tanh']\n",
            "\u001b[30m train set loss: 1.81186, test_set loss: 1.73436 in epoch 5/30 ,time is: 32.7sec\n",
            "\u001b[30m train set loss: 1.64888, test_set loss: 1.57663 in epoch 10/30 ,time is: 33.7sec\n",
            "\u001b[30m train set loss: 1.54237, test_set loss: 1.47465 in epoch 15/30 ,time is: 34.7sec\n",
            "\u001b[30m train set loss: 1.47466, test_set loss: 1.41637 in epoch 20/30 ,time is: 35.8sec\n",
            "\u001b[30m train set loss: 1.43047, test_set loss: 1.37689 in epoch 25/30 ,time is: 36.9sec\n",
            "\u001b[30m train set loss: 1.39887, test_set loss: 1.35744 in epoch 30/30 ,time is: 37.9sec\n",
            "\u001b[31mmodel number is 6,model hidden layrs are [10] and coresponding activation funcitions are['relu']\n",
            "\u001b[30m train set loss: 1.43595, test_set loss: 1.35783 in epoch 5/30 ,time is: 39.0sec\n",
            "\u001b[30m train set loss: 1.21902, test_set loss: 1.16855 in epoch 10/30 ,time is: 40.0sec\n",
            "\u001b[30m train set loss: 1.11312, test_set loss: 1.08429 in epoch 15/30 ,time is: 41.0sec\n",
            "\u001b[30m train set loss: 1.05346, test_set loss: 1.03049 in epoch 20/30 ,time is: 42.1sec\n",
            "\u001b[30m train set loss: 1.01635, test_set loss: 0.98829 in epoch 25/30 ,time is: 43.1sec\n",
            "\u001b[30m train set loss: 0.99096, test_set loss: 0.97016 in epoch 30/30 ,time is: 44.2sec\n",
            "\u001b[32mthis is the best model yet\n",
            "\u001b[32m-----------------------------\n",
            "\u001b[31mmodel number is 7,model hidden layrs are [10] and coresponding activation funcitions are['sigmoid']\n",
            "\u001b[30m train set loss: 1.63324, test_set loss: 1.58612 in epoch 5/30 ,time is: 45.2sec\n",
            "\u001b[30m train set loss: 1.60237, test_set loss: 1.54839 in epoch 10/30 ,time is: 46.3sec\n",
            "\u001b[30m train set loss: 1.57143, test_set loss: 1.51863 in epoch 15/30 ,time is: 47.3sec\n",
            "\u001b[30m train set loss: 1.54407, test_set loss: 1.50373 in epoch 20/30 ,time is: 48.4sec\n",
            "\u001b[30m train set loss: 1.51856, test_set loss: 1.46921 in epoch 25/30 ,time is: 49.4sec\n",
            "\u001b[30m train set loss: 1.49601, test_set loss: 1.44710 in epoch 30/30 ,time is: 50.4sec\n",
            "\u001b[31mmodel number is 8,model hidden layrs are [10] and coresponding activation funcitions are['tanh']\n",
            "\u001b[30m train set loss: 1.85675, test_set loss: 1.78687 in epoch 5/30 ,time is: 51.5sec\n",
            "\u001b[30m train set loss: 1.66460, test_set loss: 1.59590 in epoch 10/30 ,time is: 52.5sec\n",
            "\u001b[30m train set loss: 1.54108, test_set loss: 1.48938 in epoch 15/30 ,time is: 53.6sec\n",
            "\u001b[30m train set loss: 1.46357, test_set loss: 1.41315 in epoch 20/30 ,time is: 54.6sec\n",
            "\u001b[30m train set loss: 1.41519, test_set loss: 1.36715 in epoch 25/30 ,time is: 55.7sec\n",
            "\u001b[30m train set loss: 1.38325, test_set loss: 1.34189 in epoch 30/30 ,time is: 56.7sec\n",
            "\u001b[31mmodel number is 9,model hidden layrs are [15] and coresponding activation funcitions are['relu']\n",
            "\u001b[30m train set loss: 1.49374, test_set loss: 1.43495 in epoch 5/30 ,time is: 57.7sec\n",
            "\u001b[30m train set loss: 1.23424, test_set loss: 1.19396 in epoch 10/30 ,time is: 58.8sec\n",
            "\u001b[30m train set loss: 1.06029, test_set loss: 1.04211 in epoch 15/30 ,time is: 59.8sec\n",
            "\u001b[30m train set loss: 0.98449, test_set loss: 0.98303 in epoch 20/30 ,time is: 60.9sec\n",
            "\u001b[30m train set loss: 0.95304, test_set loss: 0.94542 in epoch 25/30 ,time is: 61.9sec\n",
            "\u001b[30m train set loss: 0.93830, test_set loss: 0.92869 in epoch 30/30 ,time is: 63.0sec\n",
            "\u001b[32mthis is the best model yet\n",
            "\u001b[32m-----------------------------\n",
            "\u001b[31mmodel number is 10,model hidden layrs are [15] and coresponding activation funcitions are['sigmoid']\n",
            "\u001b[30m train set loss: 1.48518, test_set loss: 1.44123 in epoch 5/30 ,time is: 64.0sec\n",
            "\u001b[30m train set loss: 1.46050, test_set loss: 1.40694 in epoch 10/30 ,time is: 65.0sec\n",
            "\u001b[30m train set loss: 1.43860, test_set loss: 1.39725 in epoch 15/30 ,time is: 66.1sec\n",
            "\u001b[30m train set loss: 1.42068, test_set loss: 1.37455 in epoch 20/30 ,time is: 67.1sec\n",
            "\u001b[30m train set loss: 1.40539, test_set loss: 1.36481 in epoch 25/30 ,time is: 68.1sec\n",
            "\u001b[30m train set loss: 1.39186, test_set loss: 1.35028 in epoch 30/30 ,time is: 69.2sec\n",
            "\u001b[31mmodel number is 11,model hidden layrs are [15] and coresponding activation funcitions are['tanh']\n",
            "\u001b[30m train set loss: 1.70000, test_set loss: 1.62903 in epoch 5/30 ,time is: 70.2sec\n",
            "\u001b[30m train set loss: 1.55041, test_set loss: 1.49339 in epoch 10/30 ,time is: 72.3sec\n",
            "\u001b[30m train set loss: 1.46555, test_set loss: 1.41537 in epoch 15/30 ,time is: 75.1sec\n",
            "\u001b[30m train set loss: 1.41524, test_set loss: 1.37249 in epoch 20/30 ,time is: 77.9sec\n",
            "\u001b[30m train set loss: 1.38257, test_set loss: 1.32844 in epoch 25/30 ,time is: 79.8sec\n",
            "\u001b[30m train set loss: 1.35897, test_set loss: 1.32016 in epoch 30/30 ,time is: 80.8sec\n",
            "\u001b[31mmodel number is 12,model hidden layrs are [20] and coresponding activation funcitions are['relu']\n",
            "\u001b[30m train set loss: 2.16484, test_set loss: 2.11102 in epoch 5/30 ,time is: 81.9sec\n",
            "\u001b[30m train set loss: 2.16400, test_set loss: 2.10348 in epoch 10/30 ,time is: 83.0sec\n",
            "\u001b[30m train set loss: 2.16388, test_set loss: 2.10593 in epoch 15/30 ,time is: 84.1sec\n",
            "\u001b[30m train set loss: 2.16402, test_set loss: 2.10944 in epoch 20/30 ,time is: 85.2sec\n",
            "\u001b[30m train set loss: 2.16424, test_set loss: 2.11263 in epoch 25/30 ,time is: 86.3sec\n",
            "\u001b[30m train set loss: 2.16451, test_set loss: 2.10541 in epoch 30/30 ,time is: 87.7sec\n",
            "\u001b[31mmodel number is 13,model hidden layrs are [20] and coresponding activation funcitions are['sigmoid']\n",
            "\u001b[30m train set loss: 1.77336, test_set loss: 1.71050 in epoch 5/30 ,time is: 88.7sec\n",
            "\u001b[30m train set loss: 1.71096, test_set loss: 1.65670 in epoch 10/30 ,time is: 89.8sec\n",
            "\u001b[30m train set loss: 1.64997, test_set loss: 1.58301 in epoch 15/30 ,time is: 90.8sec\n",
            "\u001b[30m train set loss: 1.58776, test_set loss: 1.53833 in epoch 20/30 ,time is: 91.9sec\n",
            "\u001b[30m train set loss: 1.53517, test_set loss: 1.47669 in epoch 25/30 ,time is: 93.1sec\n",
            "\u001b[30m train set loss: 1.49171, test_set loss: 1.43600 in epoch 30/30 ,time is: 94.4sec\n",
            "\u001b[31mmodel number is 14,model hidden layrs are [20] and coresponding activation funcitions are['tanh']\n",
            "\u001b[30m train set loss: 1.96474, test_set loss: 1.86558 in epoch 5/30 ,time is: 96.1sec\n",
            "\u001b[30m train set loss: 1.61696, test_set loss: 1.56711 in epoch 10/30 ,time is: 97.5sec\n",
            "\u001b[30m train set loss: 1.46582, test_set loss: 1.40347 in epoch 15/30 ,time is: 98.6sec\n",
            "\u001b[30m train set loss: 1.39716, test_set loss: 1.37307 in epoch 20/30 ,time is: 99.7sec\n",
            "\u001b[30m train set loss: 1.35978, test_set loss: 1.31145 in epoch 25/30 ,time is: 101.2sec\n",
            "\u001b[30m train set loss: 1.33679, test_set loss: 1.29393 in epoch 30/30 ,time is: 102.3sec\n",
            "\u001b[31mmodel number is 15,model hidden layrs are [25] and coresponding activation funcitions are['relu']\n",
            "\u001b[30m train set loss: 1.48892, test_set loss: 1.40551 in epoch 5/30 ,time is: 103.3sec\n",
            "\u001b[30m train set loss: 1.18742, test_set loss: 1.16068 in epoch 10/30 ,time is: 104.4sec\n",
            "\u001b[30m train set loss: 1.02698, test_set loss: 1.01126 in epoch 15/30 ,time is: 105.4sec\n",
            "\u001b[30m train set loss: 0.97635, test_set loss: 0.97317 in epoch 20/30 ,time is: 106.8sec\n",
            "\u001b[30m train set loss: 0.95172, test_set loss: 0.94568 in epoch 25/30 ,time is: 107.8sec\n",
            "\u001b[30m train set loss: 0.93760, test_set loss: 0.92876 in epoch 30/30 ,time is: 108.9sec\n",
            "\u001b[31mmodel number is 16,model hidden layrs are [25] and coresponding activation funcitions are['sigmoid']\n",
            "\u001b[30m train set loss: 1.71892, test_set loss: 1.65407 in epoch 5/30 ,time is: 110.2sec\n",
            "\u001b[30m train set loss: 1.64701, test_set loss: 1.59268 in epoch 10/30 ,time is: 111.8sec\n",
            "\u001b[30m train set loss: 1.58060, test_set loss: 1.52309 in epoch 15/30 ,time is: 113.3sec\n",
            "\u001b[30m train set loss: 1.52394, test_set loss: 1.46927 in epoch 20/30 ,time is: 114.7sec\n",
            "\u001b[30m train set loss: 1.47855, test_set loss: 1.42917 in epoch 25/30 ,time is: 115.7sec\n",
            "\u001b[30m train set loss: 1.44239, test_set loss: 1.38930 in epoch 30/30 ,time is: 116.8sec\n",
            "\u001b[31mmodel number is 17,model hidden layrs are [25] and coresponding activation funcitions are['tanh']\n",
            "\u001b[30m train set loss: 1.66630, test_set loss: 1.59670 in epoch 5/30 ,time is: 117.8sec\n",
            "\u001b[30m train set loss: 1.47017, test_set loss: 1.42828 in epoch 10/30 ,time is: 118.9sec\n",
            "\u001b[30m train set loss: 1.39151, test_set loss: 1.35064 in epoch 15/30 ,time is: 120.0sec\n",
            "\u001b[30m train set loss: 1.35242, test_set loss: 1.32757 in epoch 20/30 ,time is: 121.1sec\n",
            "\u001b[30m train set loss: 1.32901, test_set loss: 1.29641 in epoch 25/30 ,time is: 122.8sec\n",
            "\u001b[30m train set loss: 1.31388, test_set loss: 1.27673 in epoch 30/30 ,time is: 123.9sec\n",
            "\u001b[31mmodel number is 18,model hidden layrs are [5, 4] and coresponding activation funcitions are['relu', 'relu']\n",
            "\u001b[30m train set loss: 2.16417, test_set loss: 2.12084 in epoch 5/30 ,time is: 125.0sec\n",
            "\u001b[30m train set loss: 2.16382, test_set loss: 2.11549 in epoch 10/30 ,time is: 126.2sec\n",
            "\u001b[30m train set loss: 2.16684, test_set loss: 2.10463 in epoch 15/30 ,time is: 127.3sec\n",
            "\u001b[30m train set loss: 2.16342, test_set loss: 2.10477 in epoch 20/30 ,time is: 128.5sec\n",
            "\u001b[30m train set loss: 2.16179, test_set loss: 2.10993 in epoch 25/30 ,time is: 129.6sec\n",
            "\u001b[30m train set loss: 2.16292, test_set loss: 2.09719 in epoch 30/30 ,time is: 130.8sec\n",
            "\u001b[31mmodel number is 19,model hidden layrs are [5, 4] and coresponding activation funcitions are['sigmoid', 'sigmoid']\n",
            "\u001b[30m train set loss: 1.50059, test_set loss: 1.45644 in epoch 5/30 ,time is: 131.9sec\n",
            "\u001b[30m train set loss: 1.48761, test_set loss: 1.45289 in epoch 10/30 ,time is: 133.0sec\n",
            "\u001b[30m train set loss: 1.47471, test_set loss: 1.43610 in epoch 15/30 ,time is: 134.2sec\n",
            "\u001b[30m train set loss: 1.46302, test_set loss: 1.41254 in epoch 20/30 ,time is: 135.4sec\n",
            "\u001b[30m train set loss: 1.45238, test_set loss: 1.44188 in epoch 25/30 ,time is: 136.5sec\n",
            "\u001b[30m train set loss: 1.44321, test_set loss: 1.39096 in epoch 30/30 ,time is: 137.7sec\n",
            "\u001b[31mmodel number is 20,model hidden layrs are [5, 4] and coresponding activation funcitions are['tanh', 'tanh']\n",
            "\u001b[30m train set loss: 1.93043, test_set loss: 1.85252 in epoch 5/30 ,time is: 138.8sec\n",
            "\u001b[30m train set loss: 1.76205, test_set loss: 1.72337 in epoch 10/30 ,time is: 140.0sec\n",
            "\u001b[30m train set loss: 1.63964, test_set loss: 1.57836 in epoch 15/30 ,time is: 141.2sec\n",
            "\u001b[30m train set loss: 1.55397, test_set loss: 1.50622 in epoch 20/30 ,time is: 142.3sec\n",
            "\u001b[30m train set loss: 1.49296, test_set loss: 1.44153 in epoch 25/30 ,time is: 143.4sec\n",
            "\u001b[30m train set loss: 1.45017, test_set loss: 1.40183 in epoch 30/30 ,time is: 144.6sec\n",
            "\u001b[31mmodel number is 21,model hidden layrs are [10, 5] and coresponding activation funcitions are['relu', 'relu']\n",
            "\u001b[30m train set loss: 1.70715, test_set loss: 1.62282 in epoch 5/30 ,time is: 145.7sec\n",
            "\u001b[30m train set loss: 1.50941, test_set loss: 1.43309 in epoch 10/30 ,time is: 146.9sec\n",
            "\u001b[30m train set loss: 1.33428, test_set loss: 1.26394 in epoch 15/30 ,time is: 148.0sec\n",
            "\u001b[30m train set loss: 1.18610, test_set loss: 1.13539 in epoch 20/30 ,time is: 149.2sec\n",
            "\u001b[30m train set loss: 1.08287, test_set loss: 1.05271 in epoch 25/30 ,time is: 150.3sec\n",
            "\u001b[30m train set loss: 1.02086, test_set loss: 0.98993 in epoch 30/30 ,time is: 151.4sec\n",
            "\u001b[31mmodel number is 22,model hidden layrs are [10, 5] and coresponding activation funcitions are['sigmoid', 'sigmoid']\n",
            "\u001b[30m train set loss: 1.70888, test_set loss: 1.66131 in epoch 5/30 ,time is: 152.6sec\n",
            "\u001b[30m train set loss: 1.68584, test_set loss: 1.62889 in epoch 10/30 ,time is: 153.7sec\n",
            "\u001b[30m train set loss: 1.66451, test_set loss: 1.62472 in epoch 15/30 ,time is: 154.9sec\n",
            "\u001b[30m train set loss: 1.63998, test_set loss: 1.58112 in epoch 20/30 ,time is: 156.0sec\n",
            "\u001b[30m train set loss: 1.61903, test_set loss: 1.56471 in epoch 25/30 ,time is: 157.1sec\n",
            "\u001b[30m train set loss: 1.59526, test_set loss: 1.54553 in epoch 30/30 ,time is: 158.3sec\n",
            "\u001b[31mmodel number is 23,model hidden layrs are [10, 5] and coresponding activation funcitions are['tanh', 'tanh']\n",
            "\u001b[30m train set loss: 1.70901, test_set loss: 1.62894 in epoch 5/30 ,time is: 159.4sec\n",
            "\u001b[30m train set loss: 1.53585, test_set loss: 1.47871 in epoch 10/30 ,time is: 160.6sec\n",
            "\u001b[30m train set loss: 1.44509, test_set loss: 1.39571 in epoch 15/30 ,time is: 161.8sec\n",
            "\u001b[30m train set loss: 1.39370, test_set loss: 1.38440 in epoch 20/30 ,time is: 162.9sec\n",
            "\u001b[30m train set loss: 1.36162, test_set loss: 1.32091 in epoch 25/30 ,time is: 164.1sec\n",
            "\u001b[30m train set loss: 1.34098, test_set loss: 1.30473 in epoch 30/30 ,time is: 165.2sec\n",
            "\u001b[31mmodel number is 24,model hidden layrs are [20, 10] and coresponding activation funcitions are['relu', 'relu']\n",
            "\u001b[30m train set loss: 1.66683, test_set loss: 1.57913 in epoch 5/30 ,time is: 166.4sec\n",
            "\u001b[30m train set loss: 1.36224, test_set loss: 1.30338 in epoch 10/30 ,time is: 167.6sec\n",
            "\u001b[30m train set loss: 1.16353, test_set loss: 1.12990 in epoch 15/30 ,time is: 168.7sec\n",
            "\u001b[30m train set loss: 1.05912, test_set loss: 1.04092 in epoch 20/30 ,time is: 169.9sec\n",
            "\u001b[30m train set loss: 1.00894, test_set loss: 1.00139 in epoch 25/30 ,time is: 171.1sec\n",
            "\u001b[30m train set loss: 0.98287, test_set loss: 0.97900 in epoch 30/30 ,time is: 172.3sec\n",
            "\u001b[31mmodel number is 25,model hidden layrs are [20, 10] and coresponding activation funcitions are['sigmoid', 'sigmoid']\n",
            "\u001b[30m train set loss: 1.66719, test_set loss: 1.61559 in epoch 5/30 ,time is: 173.4sec\n",
            "\u001b[30m train set loss: 1.63196, test_set loss: 1.57441 in epoch 10/30 ,time is: 174.6sec\n",
            "\u001b[30m train set loss: 1.59919, test_set loss: 1.54832 in epoch 15/30 ,time is: 175.8sec\n",
            "\u001b[30m train set loss: 1.56811, test_set loss: 1.51079 in epoch 20/30 ,time is: 176.9sec\n",
            "\u001b[30m train set loss: 1.53867, test_set loss: 1.47856 in epoch 25/30 ,time is: 178.1sec\n",
            "\u001b[30m train set loss: 1.51247, test_set loss: 1.46315 in epoch 30/30 ,time is: 179.7sec\n",
            "\u001b[31mmodel number is 26,model hidden layrs are [20, 10] and coresponding activation funcitions are['tanh', 'tanh']\n",
            "\u001b[30m train set loss: 2.03699, test_set loss: 1.95230 in epoch 5/30 ,time is: 181.1sec\n",
            "\u001b[30m train set loss: 1.73552, test_set loss: 1.65899 in epoch 10/30 ,time is: 182.3sec\n",
            "\u001b[30m train set loss: 1.55657, test_set loss: 1.49441 in epoch 15/30 ,time is: 183.4sec\n",
            "\u001b[30m train set loss: 1.46012, test_set loss: 1.40475 in epoch 20/30 ,time is: 184.6sec\n",
            "\u001b[30m train set loss: 1.40563, test_set loss: 1.35420 in epoch 25/30 ,time is: 185.8sec\n",
            "\u001b[30m train set loss: 1.37144, test_set loss: 1.32354 in epoch 30/30 ,time is: 187.0sec\n",
            "\u001b[31mmodel number is 27,model hidden layrs are [25, 15] and coresponding activation funcitions are['relu', 'relu']\n",
            "\u001b[30m train set loss: 1.87910, test_set loss: 1.82452 in epoch 5/30 ,time is: 188.1sec\n",
            "\u001b[30m train set loss: 1.75600, test_set loss: 1.74701 in epoch 10/30 ,time is: 189.3sec\n",
            "\u001b[30m train set loss: 1.55375, test_set loss: 1.52811 in epoch 15/30 ,time is: 190.6sec\n",
            "\u001b[30m train set loss: 1.34763, test_set loss: 1.31767 in epoch 20/30 ,time is: 192.6sec\n",
            "\u001b[30m train set loss: 1.17601, test_set loss: 1.15255 in epoch 25/30 ,time is: 194.0sec\n",
            "\u001b[30m train set loss: 1.06033, test_set loss: 1.05548 in epoch 30/30 ,time is: 195.5sec\n",
            "\u001b[31mmodel number is 28,model hidden layrs are [25, 15] and coresponding activation funcitions are['sigmoid', 'sigmoid']\n",
            "\u001b[30m train set loss: 1.63656, test_set loss: 1.57483 in epoch 5/30 ,time is: 196.7sec\n",
            "\u001b[30m train set loss: 1.59269, test_set loss: 1.53748 in epoch 10/30 ,time is: 197.9sec\n",
            "\u001b[30m train set loss: 1.55210, test_set loss: 1.51344 in epoch 15/30 ,time is: 199.3sec\n",
            "\u001b[30m train set loss: 1.51624, test_set loss: 1.47193 in epoch 20/30 ,time is: 201.1sec\n",
            "\u001b[30m train set loss: 1.48650, test_set loss: 1.43191 in epoch 25/30 ,time is: 202.7sec\n",
            "\u001b[30m train set loss: 1.45890, test_set loss: 1.40689 in epoch 30/30 ,time is: 204.7sec\n",
            "\u001b[31mmodel number is 29,model hidden layrs are [25, 15] and coresponding activation funcitions are['tanh', 'tanh']\n",
            "\u001b[30m train set loss: 1.93531, test_set loss: 1.84911 in epoch 5/30 ,time is: 206.4sec\n",
            "\u001b[30m train set loss: 1.61440, test_set loss: 1.56739 in epoch 10/30 ,time is: 208.0sec\n",
            "\u001b[30m train set loss: 1.45759, test_set loss: 1.41589 in epoch 15/30 ,time is: 209.6sec\n",
            "\u001b[30m train set loss: 1.38447, test_set loss: 1.34923 in epoch 20/30 ,time is: 211.5sec\n",
            "\u001b[30m train set loss: 1.34561, test_set loss: 1.30689 in epoch 25/30 ,time is: 212.7sec\n",
            "\u001b[30m train set loss: 1.32402, test_set loss: 1.28220 in epoch 30/30 ,time is: 213.9sec\n",
            "\u001b[31mmodel number is 30,model hidden layrs are [18, 12] and coresponding activation funcitions are['relu', 'relu']\n",
            "\u001b[30m train set loss: 2.14845, test_set loss: 2.09150 in epoch 5/30 ,time is: 215.5sec\n",
            "\u001b[30m train set loss: 2.13667, test_set loss: 2.07750 in epoch 10/30 ,time is: 216.9sec\n",
            "\u001b[30m train set loss: 2.05054, test_set loss: 1.96520 in epoch 15/30 ,time is: 218.3sec\n",
            "\u001b[30m train set loss: 1.73624, test_set loss: 1.66164 in epoch 20/30 ,time is: 219.5sec\n",
            "\u001b[30m train set loss: 1.38537, test_set loss: 1.29852 in epoch 25/30 ,time is: 220.6sec\n",
            "\u001b[30m train set loss: 1.12755, test_set loss: 1.08602 in epoch 30/30 ,time is: 221.8sec\n",
            "\u001b[31mmodel number is 31,model hidden layrs are [18, 12] and coresponding activation funcitions are['sigmoid', 'sigmoid']\n",
            "\u001b[30m train set loss: 1.52865, test_set loss: 1.47226 in epoch 5/30 ,time is: 223.0sec\n",
            "\u001b[30m train set loss: 1.50059, test_set loss: 1.44592 in epoch 10/30 ,time is: 224.4sec\n",
            "\u001b[30m train set loss: 1.47507, test_set loss: 1.42413 in epoch 15/30 ,time is: 226.1sec\n",
            "\u001b[30m train set loss: 1.45509, test_set loss: 1.40095 in epoch 20/30 ,time is: 227.3sec\n",
            "\u001b[30m train set loss: 1.43468, test_set loss: 1.38316 in epoch 25/30 ,time is: 228.4sec\n",
            "\u001b[30m train set loss: 1.41837, test_set loss: 1.37388 in epoch 30/30 ,time is: 229.6sec\n",
            "\u001b[31mmodel number is 32,model hidden layrs are [18, 12] and coresponding activation funcitions are['tanh', 'tanh']\n",
            "\u001b[30m train set loss: 2.12689, test_set loss: 2.05354 in epoch 5/30 ,time is: 230.7sec\n",
            "\u001b[30m train set loss: 1.84952, test_set loss: 1.77608 in epoch 10/30 ,time is: 231.9sec\n",
            "\u001b[30m train set loss: 1.64393, test_set loss: 1.57271 in epoch 15/30 ,time is: 233.1sec\n",
            "\u001b[30m train set loss: 1.51900, test_set loss: 1.46198 in epoch 20/30 ,time is: 234.3sec\n",
            "\u001b[30m train set loss: 1.44600, test_set loss: 1.39124 in epoch 25/30 ,time is: 235.5sec\n",
            "\u001b[30m train set loss: 1.39962, test_set loss: 1.36045 in epoch 30/30 ,time is: 236.6sec\n",
            "\u001b[31mmodel number is 33,model hidden layrs are [15, 8, 3] and coresponding activation funcitions are['relu', 'relu', 'relu']\n",
            "\u001b[30m train set loss: 1.75518, test_set loss: 1.68817 in epoch 5/30 ,time is: 237.9sec\n",
            "\u001b[30m train set loss: 1.58047, test_set loss: 1.51013 in epoch 10/30 ,time is: 239.2sec\n",
            "\u001b[30m train set loss: 1.44351, test_set loss: 1.38475 in epoch 15/30 ,time is: 240.4sec\n",
            "\u001b[30m train set loss: 1.33342, test_set loss: 1.28222 in epoch 20/30 ,time is: 241.7sec\n",
            "\u001b[30m train set loss: 1.24581, test_set loss: 1.20257 in epoch 25/30 ,time is: 243.0sec\n",
            "\u001b[30m train set loss: 1.18000, test_set loss: 1.14170 in epoch 30/30 ,time is: 244.2sec\n",
            "\u001b[31mmodel number is 34,model hidden layrs are [15, 8, 3] and coresponding activation funcitions are['sigmoid', 'sigmoid', 'sigmoid']\n",
            "\u001b[30m train set loss: 1.65001, test_set loss: 1.58913 in epoch 5/30 ,time is: 245.5sec\n",
            "\u001b[30m train set loss: 1.63372, test_set loss: 1.57839 in epoch 10/30 ,time is: 246.8sec\n",
            "\u001b[30m train set loss: 1.61741, test_set loss: 1.56033 in epoch 15/30 ,time is: 248.0sec\n",
            "\u001b[30m train set loss: 1.60254, test_set loss: 1.55555 in epoch 20/30 ,time is: 249.3sec\n",
            "\u001b[30m train set loss: 1.58668, test_set loss: 1.53435 in epoch 25/30 ,time is: 250.5sec\n",
            "\u001b[30m train set loss: 1.57203, test_set loss: 1.52156 in epoch 30/30 ,time is: 251.8sec\n",
            "\u001b[31mmodel number is 35,model hidden layrs are [15, 8, 3] and coresponding activation funcitions are['tanh', 'tanh', 'tanh']\n",
            "\u001b[30m train set loss: 2.18254, test_set loss: 2.09614 in epoch 5/30 ,time is: 253.0sec\n",
            "\u001b[30m train set loss: 1.86801, test_set loss: 1.78729 in epoch 10/30 ,time is: 254.3sec\n",
            "\u001b[30m train set loss: 1.63521, test_set loss: 1.56384 in epoch 15/30 ,time is: 255.6sec\n",
            "\u001b[30m train set loss: 1.50443, test_set loss: 1.45147 in epoch 20/30 ,time is: 256.9sec\n",
            "\u001b[30m train set loss: 1.43255, test_set loss: 1.38042 in epoch 25/30 ,time is: 258.1sec\n",
            "\u001b[30m train set loss: 1.38957, test_set loss: 1.34656 in epoch 30/30 ,time is: 259.4sec\n"
          ]
        }
      ],
      "source": [
        "#   In this section, we create several different structures of neural networks and perform training and \n",
        "# testing operations on them. We will then select the best model from the available options.\n",
        "\n",
        "start_time = time.time()\n",
        "best_test_loss = 100000000\n",
        "different_model_loss = []\n",
        "model_parameters = []\n",
        "model_num = 0\n",
        "EPOCHS  =30\n",
        "BATCH_size = 32\n",
        "train_data_loader, test_data_loader =  creating_loaders(BATCH_size,train,test)\n",
        "layers_neourons = [[3,30,1],[3,5,1],[3,10,1],[3,15,1],[3,20,1],[3,25,1],[3,5,4,1],[3,10,5,1],[3,20,10,1],[3,25,15,1],[3,18,12,1],[3,15,8,3,1]]\n",
        "acivation_functions_2 =[['relu',None],['sigmoid',None],['tanh',None]]\n",
        "acivation_functions_3 = [['relu','relu',None],['sigmoid','sigmoid',None],['tanh','tanh',None]]\n",
        "acivation_functions_4 = [['relu','relu','relu',None],['sigmoid','sigmoid','sigmoid',None],['tanh','tanh','tanh',None]]\n",
        "for i in range(len(layers_neourons)):\n",
        "  if len(layers_neourons[i])==3:\n",
        "    acivation_functions =acivation_functions_2\n",
        "  elif  len(layers_neourons[i])==4:\n",
        "    acivation_functions =acivation_functions_3\n",
        "  elif len(layers_neourons[i])==5:\n",
        "    acivation_functions =acivation_functions_4\n",
        "  \n",
        "  for j in range(len(acivation_functions)):\n",
        "    print(Fore.RED+'model number is {},model hidden layrs are {} and coresponding activation funcitions are{}'.format(model_num,layers_neourons[i][1:-1],acivation_functions[j][:-1]))\n",
        "    model = Network(layers_neourons[i],acivation_functions[j])\n",
        "    model.to(device)\n",
        "    \n",
        "\n",
        "\n",
        "\n",
        "    optimizer =  optim.SGD(model.parameters(), lr = 0.0001 )\n",
        "    traing_avg_loss,test_avg_loss = train_model(model,optimizer,EPOCHS,BATCH_size,start_time,train_data_loader, test_data_loader)\n",
        "\n",
        "\n",
        "    different_model_loss.append(test_avg_loss[-1])\n",
        "    info = {}\n",
        "    info['layers'] = layers_neourons[i]\n",
        "    info['activation'] = acivation_functions[j][:-1]\n",
        "    model_parameters.append(info)\n",
        "\n",
        "    model_num+=1\n",
        "    if test_avg_loss[-1]<best_test_loss:\n",
        "      print(Fore.GREEN+'this is the best model yet')\n",
        "      print(Fore.GREEN+'-----------------------------')\n",
        "      best_model = model \n",
        "      best_test_loss = test_avg_loss[-1]\n",
        "      \n",
        "      best_model_train_loss = traing_avg_loss\n",
        "      best_model_test_loss =  test_avg_loss\n",
        "    del model\n",
        " \n"
      ]
    },
    {
      "cell_type": "markdown",
      "id": "QF3-dzW56SuS",
      "metadata": {
        "id": "QF3-dzW56SuS"
      },
      "source": [
        "# 7.results"
      ]
    },
    {
      "cell_type": "code",
      "execution_count": 25,
      "id": "ljH1Cj4V6YmC",
      "metadata": {
        "colab": {
          "base_uri": "https://localhost:8080/"
        },
        "id": "ljH1Cj4V6YmC",
        "outputId": "8f28a6ff-ef64-4717-af5b-3d728deb988a"
      },
      "outputs": [
        {
          "name": "stdout",
          "output_type": "stream",
          "text": [
            "\u001b[34mbest model strucre  is : \u001b[30m\n",
            " Network(\n",
            "  (linears): ModuleList(\n",
            "    (0): Linear(in_features=3, out_features=15, bias=True)\n",
            "    (1): ReLU()\n",
            "    (2): Linear(in_features=15, out_features=1, bias=True)\n",
            "    (3): ReLU()\n",
            "  )\n",
            ")\n"
          ]
        }
      ],
      "source": [
        "print(Fore.BLUE+'best model strucre  is :',Fore.BLACK+ '\\n',best_model)"
      ]
    },
    {
      "cell_type": "code",
      "execution_count": 19,
      "id": "yzad6CTtPrqo",
      "metadata": {
        "colab": {
          "base_uri": "https://localhost:8080/",
          "height": 295
        },
        "id": "yzad6CTtPrqo",
        "outputId": "7e54b54f-eb9c-4cc6-b19c-fe487db1391d"
      },
      "outputs": [
        {
          "data": {
            "image/png": "[encoded data removed]",
            "text/plain": [
              "<Figure size 432x288 with 1 Axes>"
            ]
          },
          "metadata": {
            "needs_background": "light"
          },
          "output_type": "display_data"
        }
      ],
      "source": [
        "E = [i+1 for i in range(EPOCHS)]\n",
        "fig = plt.figure()\n",
        "ax = fig.add_subplot(1, 1, 1)\n",
        "ax.plot(E, best_model_train_loss, color='tab:blue',label='train')\n",
        "ax.plot(E, best_model_test_loss, color='tab:orange',label='test')\n",
        "plt.legend(loc=\"upper right\")\n",
        "ax.set_title('loss versus epoch for best model')\n",
        "ax.set_xlabel(\"Epoch\")\n",
        "ax.set_ylabel('loss')\n",
        "plt.show()"
      ]
    },
    {
      "cell_type": "markdown",
      "id": "nypJt-ATJWBY",
      "metadata": {
        "id": "nypJt-ATJWBY"
      },
      "source": [
        "As seen in the above chart, the cost function decreases during the learning process, indicating a descending trend. However, ultimately, this value cannot converge to less than one\n",
        "\n",
        "\n",
        "---\n",
        "\n",
        "\n",
        "\n",
        "---\n",
        "\n",
        "\n",
        "\n",
        "---\n",
        "\n",
        "\n",
        "It is noteworthy that overfitting did not occur for the network due to the trend of changes in the cost function observed on the two datasets"
      ]
    },
    {
      "cell_type": "code",
      "execution_count": 90,
      "id": "Mq9ikciTQqve",
      "metadata": {
        "colab": {
          "base_uri": "https://localhost:8080/",
          "height": 279
        },
        "id": "Mq9ikciTQqve",
        "outputId": "16485b82-cb64-470f-88da-3fadb2649949"
      },
      "outputs": [
        {
          "data": {
            "image/png": "[encoded data removed]",
            "text/plain": [
              "<Figure size 432x288 with 1 Axes>"
            ]
          },
          "metadata": {
            "needs_background": "light"
          },
          "output_type": "display_data"
        }
      ],
      "source": [
        "test2= test.sort_values(by=['Rain','Flow'])\n",
        "indices =list(test2.index)\n",
        "random_index = [i* 30 for i in range(75,85)]\n",
        "selected =[indices[i] for i in random_index ]\n",
        "test2 = test2.loc[selected]\n",
        "X = torch.tensor(test2.drop(columns=['Flow']).values) \n",
        "y =(test2['Flow'])\n",
        "predicted = best_model(X.float())\n",
        "predicted = [tensor.item() for tensor in predicted]\n",
        "\n",
        "fig = plt.figure()\n",
        "ax = fig.add_subplot(1, 1, 1)\n",
        "\n",
        "ax.scatter(list(test2['Rain']),predicted , color='tab:blue',label='predicted')\n",
        "ax.scatter(list(test2['Rain']), y, color='tab:orange',label='real')\n",
        "plt.legend(loc=\"upper right\")\n",
        "# ax.set_title('flow based on rain')\n",
        "ax.set_xlabel(\"rain\")\n",
        "ax.set_ylabel('flow')\n",
        "plt.show()"
      ]
    },
    {
      "cell_type": "markdown",
      "id": "DKR--somKTuj",
      "metadata": {
        "id": "DKR--somKTuj"
      },
      "source": [
        "\n",
        "In the above chart, the flow values are plotted against rainfall for several specific points to evaluate the performance of our method relative to the actual flow values\n",
        "\n",
        "---\n",
        "\n",
        "\n",
        "It should be noted that these points are selected in a way that we can assess the network's performance at points where rainfall and flow are not strongly correlated. The average error of our network is less than one. The high error in some points of the above chart does not necessarily indicate incorrect predictions with such large deviations for all points\n",
        "\n",
        "---\n",
        "\n",
        "\n",
        "\n",
        "---\n",
        "\n",
        "\n",
        "If we focus on the first two points where the rainfall was zero, it can be observed that the flow values represent significantly higher amounts, which the neural network model has predicted with a relatively high error. From this observation, we can infer that the high flow rates on these days are likely not solely dependent on the rainfall on that day and the two days prior, and other parameters have contributed to the flow. "
      ]
    },
    {
      "cell_type": "code",
      "execution_count": 79,
      "id": "NqkYErKv_yuk",
      "metadata": {
        "colab": {
          "base_uri": "https://localhost:8080/",
          "height": 423
        },
        "id": "NqkYErKv_yuk",
        "outputId": "73fa3df5-6da4-4a2f-b5aa-b4a0305b1394"
      },
      "outputs": [
        {
          "data": {
            "text/html": [
              "\n",
              "  <div id=\"df-a8ecbf2d-b673-4dc4-b6e4-cdc3f07fa6af\">\n",
              "    <div class=\"colab-df-container\">\n",
              "      <div>\n",
              "<style scoped>\n",
              "    .dataframe tbody tr th:only-of-type {\n",
              "        vertical-align: middle;\n",
              "    }\n",
              "\n",
              "    .dataframe tbody tr th {\n",
              "        vertical-align: top;\n",
              "    }\n",
              "\n",
              "    .dataframe thead th {\n",
              "        text-align: right;\n",
              "    }\n",
              "</style>\n",
              "<table border=\"1\" class=\"dataframe\">\n",
              "  <thead>\n",
              "    <tr style=\"text-align: right;\">\n",
              "      <th></th>\n",
              "      <th>Rain</th>\n",
              "      <th>Flow</th>\n",
              "      <th>yesterday_rain</th>\n",
              "      <th>two_days_ago</th>\n",
              "    </tr>\n",
              "  </thead>\n",
              "  <tbody>\n",
              "    <tr>\n",
              "      <th>3461</th>\n",
              "      <td>0.0</td>\n",
              "      <td>1.83</td>\n",
              "      <td>0.0</td>\n",
              "      <td>0.0</td>\n",
              "    </tr>\n",
              "    <tr>\n",
              "      <th>5733</th>\n",
              "      <td>0.0</td>\n",
              "      <td>0.94</td>\n",
              "      <td>0.0</td>\n",
              "      <td>0.0</td>\n",
              "    </tr>\n",
              "    <tr>\n",
              "      <th>3467</th>\n",
              "      <td>0.0</td>\n",
              "      <td>2.33</td>\n",
              "      <td>0.0</td>\n",
              "      <td>0.0</td>\n",
              "    </tr>\n",
              "    <tr>\n",
              "      <th>7654</th>\n",
              "      <td>0.0</td>\n",
              "      <td>0.55</td>\n",
              "      <td>0.0</td>\n",
              "      <td>0.0</td>\n",
              "    </tr>\n",
              "    <tr>\n",
              "      <th>1983</th>\n",
              "      <td>0.0</td>\n",
              "      <td>1.68</td>\n",
              "      <td>0.0</td>\n",
              "      <td>3.0</td>\n",
              "    </tr>\n",
              "    <tr>\n",
              "      <th>...</th>\n",
              "      <td>...</td>\n",
              "      <td>...</td>\n",
              "      <td>...</td>\n",
              "      <td>...</td>\n",
              "    </tr>\n",
              "    <tr>\n",
              "      <th>10381</th>\n",
              "      <td>0.0</td>\n",
              "      <td>1.23</td>\n",
              "      <td>0.0</td>\n",
              "      <td>0.0</td>\n",
              "    </tr>\n",
              "    <tr>\n",
              "      <th>8997</th>\n",
              "      <td>0.0</td>\n",
              "      <td>1.62</td>\n",
              "      <td>0.0</td>\n",
              "      <td>0.0</td>\n",
              "    </tr>\n",
              "    <tr>\n",
              "      <th>3210</th>\n",
              "      <td>0.0</td>\n",
              "      <td>1.74</td>\n",
              "      <td>0.0</td>\n",
              "      <td>0.0</td>\n",
              "    </tr>\n",
              "    <tr>\n",
              "      <th>6053</th>\n",
              "      <td>0.0</td>\n",
              "      <td>3.20</td>\n",
              "      <td>0.0</td>\n",
              "      <td>0.0</td>\n",
              "    </tr>\n",
              "    <tr>\n",
              "      <th>3540</th>\n",
              "      <td>0.0</td>\n",
              "      <td>0.85</td>\n",
              "      <td>0.0</td>\n",
              "      <td>0.0</td>\n",
              "    </tr>\n",
              "  </tbody>\n",
              "</table>\n",
              "<p>2299 rows × 4 columns</p>\n",
              "</div>\n",
              "      <button class=\"colab-df-convert\" onclick=\"convertToInteractive('df-a8ecbf2d-b673-4dc4-b6e4-cdc3f07fa6af')\"\n",
              "              title=\"Convert this dataframe to an interactive table.\"\n",
              "              style=\"display:none;\">\n",
              "        \n",
              "  <svg xmlns=\"http://www.w3.org/2000/svg\" height=\"24px\"viewBox=\"0 0 24 24\"\n",
              "       width=\"24px\">\n",
              "    <path d=\"M0 0h24v24H0V0z\" fill=\"none\"/>\n",
              "    <path d=\"M18.56 5.44l.94 2.06.94-2.06 2.06-.94-2.06-.94-.94-2.06-.94 2.06-2.06.94zm-11 1L8.5 8.5l.94-2.06 2.06-.94-2.06-.94L8.5 2.5l-.94 2.06-2.06.94zm10 10l.94 2.06.94-2.06 2.06-.94-2.06-.94-.94-2.06-.94 2.06-2.06.94z\"/><path d=\"M17.41 7.96l-1.37-1.37c-.4-.4-.92-.59-1.43-.59-.52 0-1.04.2-1.43.59L10.3 9.45l-7.72 7.72c-.78.78-.78 2.05 0 2.83L4 21.41c.39.39.9.59 1.41.59.51 0 1.02-.2 1.41-.59l7.78-7.78 2.81-2.81c.8-.78.8-2.07 0-2.86zM5.41 20L4 18.59l7.72-7.72 1.47 1.35L5.41 20z\"/>\n",
              "  </svg>\n",
              "      </button>\n",
              "      \n",
              "  <style>\n",
              "    .colab-df-container {\n",
              "      display:flex;\n",
              "      flex-wrap:wrap;\n",
              "      gap: 12px;\n",
              "    }\n",
              "\n",
              "    .colab-df-convert {\n",
              "      background-color: #E8F0FE;\n",
              "      border: none;\n",
              "      border-radius: 50%;\n",
              "      cursor: pointer;\n",
              "      display: none;\n",
              "      fill: #1967D2;\n",
              "      height: 32px;\n",
              "      padding: 0 0 0 0;\n",
              "      width: 32px;\n",
              "    }\n",
              "\n",
              "    .colab-df-convert:hover {\n",
              "      background-color: #E2EBFA;\n",
              "      box-shadow: 0px 1px 2px rgba(60, 64, 67, 0.3), 0px 1px 3px 1px rgba(60, 64, 67, 0.15);\n",
              "      fill: #174EA6;\n",
              "    }\n",
              "\n",
              "    [theme=dark] .colab-df-convert {\n",
              "      background-color: #3B4455;\n",
              "      fill: #D2E3FC;\n",
              "    }\n",
              "\n",
              "    [theme=dark] .colab-df-convert:hover {\n",
              "      background-color: #434B5C;\n",
              "      box-shadow: 0px 1px 3px 1px rgba(0, 0, 0, 0.15);\n",
              "      filter: drop-shadow(0px 1px 2px rgba(0, 0, 0, 0.3));\n",
              "      fill: #FFFFFF;\n",
              "    }\n",
              "  </style>\n",
              "\n",
              "      <script>\n",
              "        const buttonEl =\n",
              "          document.querySelector('#df-a8ecbf2d-b673-4dc4-b6e4-cdc3f07fa6af button.colab-df-convert');\n",
              "        buttonEl.style.display =\n",
              "          google.colab.kernel.accessAllowed ? 'block' : 'none';\n",
              "\n",
              "        async function convertToInteractive(key) {\n",
              "          const element = document.querySelector('#df-a8ecbf2d-b673-4dc4-b6e4-cdc3f07fa6af');\n",
              "          const dataTable =\n",
              "            await google.colab.kernel.invokeFunction('convertToInteractive',\n",
              "                                                     [key], {});\n",
              "          if (!dataTable) return;\n",
              "\n",
              "          const docLinkHtml = 'Like what you see? Visit the ' +\n",
              "            '<a target=\"_blank\" href=https://colab.research.google.com/notebooks/data_table.ipynb>data table notebook</a>'\n",
              "            + ' to learn more about interactive tables.';\n",
              "          element.innerHTML = '';\n",
              "          dataTable['output_type'] = 'display_data';\n",
              "          await google.colab.output.renderOutput(dataTable, element);\n",
              "          const docLink = document.createElement('div');\n",
              "          docLink.innerHTML = docLinkHtml;\n",
              "          element.appendChild(docLink);\n",
              "        }\n",
              "      </script>\n",
              "    </div>\n",
              "  </div>\n",
              "  "
            ],
            "text/plain": [
              "       Rain  Flow  yesterday_rain  two_days_ago\n",
              "3461    0.0  1.83             0.0           0.0\n",
              "5733    0.0  0.94             0.0           0.0\n",
              "3467    0.0  2.33             0.0           0.0\n",
              "7654    0.0  0.55             0.0           0.0\n",
              "1983    0.0  1.68             0.0           3.0\n",
              "...     ...   ...             ...           ...\n",
              "10381   0.0  1.23             0.0           0.0\n",
              "8997    0.0  1.62             0.0           0.0\n",
              "3210    0.0  1.74             0.0           0.0\n",
              "6053    0.0  3.20             0.0           0.0\n",
              "3540    0.0  0.85             0.0           0.0\n",
              "\n",
              "[2299 rows x 4 columns]"
            ]
          },
          "execution_count": 79,
          "metadata": {},
          "output_type": "execute_result"
        }
      ],
      "source": [
        "test[test[\"Rain\"]==0]"
      ]
    },
    {
      "cell_type": "code",
      "execution_count": null,
      "id": "aATYZg-bBxYV",
      "metadata": {
        "id": "aATYZg-bBxYV"
      },
      "outputs": [],
      "source": []
    }
  ],
  "metadata": {
    "colab": {
      "collapsed_sections": [],
      "name": "main2.ipynb",
      "provenance": []
    },
    "gpuClass": "standard",
    "kernelspec": {
      "display_name": "Python 3.9.7 ('base')",
      "language": "python",
      "name": "python3"
    },
    "language_info": {
      "codemirror_mode": {
        "name": "ipython",
        "version": 3
      },
      "file_extension": ".py",
      "mimetype": "text/x-python",
      "name": "python",
      "nbconvert_exporter": "python",
      "pygments_lexer": "ipython3",
      "version": "3.9.7"
    },
    "vscode": {
      "interpreter": {
        "hash": "1838609bcd4956029bf29aeac76cf66c170c8061c8daa046f2334f9049f9abe5"
      }
    }
  },
  "nbformat": 4,
  "nbformat_minor": 5
}
